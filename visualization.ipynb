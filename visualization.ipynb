{
 "cells": [
  {
   "cell_type": "code",
   "execution_count": 1,
   "metadata": {},
   "outputs": [],
   "source": [
    "import pandas as pd\n",
    "import plotly.express as px"
   ]
  },
  {
   "cell_type": "code",
   "execution_count": 2,
   "metadata": {},
   "outputs": [],
   "source": [
    "df = pd.read_json('example_data.json')"
   ]
  },
  {
   "cell_type": "code",
   "execution_count": 3,
   "metadata": {},
   "outputs": [
    {
     "data": {
      "text/html": [
       "<div>\n",
       "<style scoped>\n",
       "    .dataframe tbody tr th:only-of-type {\n",
       "        vertical-align: middle;\n",
       "    }\n",
       "\n",
       "    .dataframe tbody tr th {\n",
       "        vertical-align: top;\n",
       "    }\n",
       "\n",
       "    .dataframe thead th {\n",
       "        text-align: right;\n",
       "    }\n",
       "</style>\n",
       "<table border=\"1\" class=\"dataframe\">\n",
       "  <thead>\n",
       "    <tr style=\"text-align: right;\">\n",
       "      <th></th>\n",
       "      <th>review_url</th>\n",
       "      <th>author</th>\n",
       "      <th>review_date</th>\n",
       "      <th>text_data</th>\n",
       "      <th>neutral</th>\n",
       "      <th>negative</th>\n",
       "      <th>positive</th>\n",
       "    </tr>\n",
       "  </thead>\n",
       "  <tbody>\n",
       "    <tr>\n",
       "      <th>0</th>\n",
       "      <td>https://barnaul.flamp.ru/firm/kfc_set_restoran...</td>\n",
       "      <td>\\n\\t\\tmaksimsup97\\n\\t</td>\n",
       "      <td>\\n\\t\\t</td>\n",
       "      <td>&lt;p class=\"t-rich-text__p\"&gt;\\n\\t\\t\\t\\t\\t\\tВзял к...</td>\n",
       "      <td>0.348655</td>\n",
       "      <td>0.384922</td>\n",
       "      <td>0.000000</td>\n",
       "    </tr>\n",
       "    <tr>\n",
       "      <th>1</th>\n",
       "      <td>https://barnaul.flamp.ru/firm/kfc_set_restoran...</td>\n",
       "      <td>\\n\\t\\tМария\\n\\t</td>\n",
       "      <td>\\n\\t3 июня в 21:25\\n\\t</td>\n",
       "      <td>&lt;p class=\"t-rich-text__p\"&gt;\\n\\t\\t\\t\\t\\t\\tБыстро...</td>\n",
       "      <td>0.000000</td>\n",
       "      <td>0.073706</td>\n",
       "      <td>0.737168</td>\n",
       "    </tr>\n",
       "    <tr>\n",
       "      <th>2</th>\n",
       "      <td>https://barnaul.flamp.ru/firm/kfc_set_restoran...</td>\n",
       "      <td>\\n\\t\\tsvetapapanova\\n\\t</td>\n",
       "      <td>\\n\\t19 мая в 12:53\\n\\t\\t</td>\n",
       "      <td>&lt;p class=\"t-rich-text__p\"&gt;\\n\\t\\t\\t\\t\\t\\tЯ любл...</td>\n",
       "      <td>0.168867</td>\n",
       "      <td>0.275140</td>\n",
       "      <td>0.000000</td>\n",
       "    </tr>\n",
       "    <tr>\n",
       "      <th>3</th>\n",
       "      <td>https://barnaul.flamp.ru/firm/kfc_set_restoran...</td>\n",
       "      <td>\\n\\t\\tНастя\\n\\t</td>\n",
       "      <td>\\n\\t\\t</td>\n",
       "      <td>&lt;p class=\"t-rich-text__p\"&gt;\\n\\t\\t\\t\\t\\t\\tНе пол...</td>\n",
       "      <td>0.718604</td>\n",
       "      <td>0.307368</td>\n",
       "      <td>0.000000</td>\n",
       "    </tr>\n",
       "    <tr>\n",
       "      <th>4</th>\n",
       "      <td>https://barnaul.flamp.ru/firm/kfc_set_restoran...</td>\n",
       "      <td>\\n\\t\\tАнтон\\n\\t</td>\n",
       "      <td>\\n\\t1 апреля в 9:42\\n\\t</td>\n",
       "      <td>&lt;p class=\"t-rich-text__p\"&gt;\\n\\t\\t\\t\\t\\t\\tМой лю...</td>\n",
       "      <td>0.112805</td>\n",
       "      <td>0.000000</td>\n",
       "      <td>0.839744</td>\n",
       "    </tr>\n",
       "    <tr>\n",
       "      <th>5</th>\n",
       "      <td>https://barnaul.flamp.ru/firm/kfc_set_restoran...</td>\n",
       "      <td>\\n\\t\\tNikita Viktorovich\\n\\t</td>\n",
       "      <td>\\n\\t16 апреля в 18:09\\n\\t</td>\n",
       "      <td>&lt;p class=\"t-rich-text__p\"&gt;\\n\\t\\t\\t\\t\\t\\tНедавн...</td>\n",
       "      <td>0.196836</td>\n",
       "      <td>0.000000</td>\n",
       "      <td>0.327678</td>\n",
       "    </tr>\n",
       "    <tr>\n",
       "      <th>6</th>\n",
       "      <td>https://barnaul.flamp.ru/firm/kfc_set_restoran...</td>\n",
       "      <td>\\n\\t\\tNatasha Ya\\n\\t</td>\n",
       "      <td>\\n\\t19 марта в 22:18\\n\\t</td>\n",
       "      <td>&lt;p class=\"t-rich-text__p\"&gt;\\n\\t\\t\\t\\t\\t\\tСреди ...</td>\n",
       "      <td>0.743178</td>\n",
       "      <td>0.182436</td>\n",
       "      <td>0.000000</td>\n",
       "    </tr>\n",
       "    <tr>\n",
       "      <th>7</th>\n",
       "      <td>https://barnaul.flamp.ru/firm/kfc_set_restoran...</td>\n",
       "      <td>\\n\\t\\tefimmova\\n\\t</td>\n",
       "      <td>\\n\\t6 июня в 23:23\\n\\t</td>\n",
       "      <td>&lt;p class=\"t-rich-text__p\"&gt;\\n\\t\\t\\t\\t\\t\\tОдин и...</td>\n",
       "      <td>0.327678</td>\n",
       "      <td>0.000000</td>\n",
       "      <td>0.392347</td>\n",
       "    </tr>\n",
       "    <tr>\n",
       "      <th>8</th>\n",
       "      <td>https://barnaul.flamp.ru/firm/kfc_set_restoran...</td>\n",
       "      <td>\\n\\t\\tАнгелина Прокопова\\n\\t</td>\n",
       "      <td>\\n\\t25 января в 17:50\\n\\t</td>\n",
       "      <td>&lt;p class=\"t-rich-text__p\"&gt;\\n\\t\\t\\t\\t\\t\\tХоть я...</td>\n",
       "      <td>0.320831</td>\n",
       "      <td>0.000000</td>\n",
       "      <td>0.307368</td>\n",
       "    </tr>\n",
       "    <tr>\n",
       "      <th>9</th>\n",
       "      <td>https://barnaul.flamp.ru/firm/kfc_set_restoran...</td>\n",
       "      <td>\\n\\t\\tРома Ч.\\n\\t</td>\n",
       "      <td>\\n\\t24 января в 20:33\\n\\t\\t</td>\n",
       "      <td>&lt;p class=\"t-rich-text__p\"&gt;\\n\\t\\t\\t\\t\\t\\tНу реб...</td>\n",
       "      <td>0.222710</td>\n",
       "      <td>0.000000</td>\n",
       "      <td>0.787941</td>\n",
       "    </tr>\n",
       "  </tbody>\n",
       "</table>\n",
       "</div>"
      ],
      "text/plain": [
       "                                          review_url  \\\n",
       "0  https://barnaul.flamp.ru/firm/kfc_set_restoran...   \n",
       "1  https://barnaul.flamp.ru/firm/kfc_set_restoran...   \n",
       "2  https://barnaul.flamp.ru/firm/kfc_set_restoran...   \n",
       "3  https://barnaul.flamp.ru/firm/kfc_set_restoran...   \n",
       "4  https://barnaul.flamp.ru/firm/kfc_set_restoran...   \n",
       "5  https://barnaul.flamp.ru/firm/kfc_set_restoran...   \n",
       "6  https://barnaul.flamp.ru/firm/kfc_set_restoran...   \n",
       "7  https://barnaul.flamp.ru/firm/kfc_set_restoran...   \n",
       "8  https://barnaul.flamp.ru/firm/kfc_set_restoran...   \n",
       "9  https://barnaul.flamp.ru/firm/kfc_set_restoran...   \n",
       "\n",
       "                         author                  review_date  \\\n",
       "0         \\n\\t\\tmaksimsup97\\n\\t                       \\n\\t\\t   \n",
       "1               \\n\\t\\tМария\\n\\t       \\n\\t3 июня в 21:25\\n\\t   \n",
       "2       \\n\\t\\tsvetapapanova\\n\\t     \\n\\t19 мая в 12:53\\n\\t\\t   \n",
       "3               \\n\\t\\tНастя\\n\\t                       \\n\\t\\t   \n",
       "4               \\n\\t\\tАнтон\\n\\t      \\n\\t1 апреля в 9:42\\n\\t   \n",
       "5  \\n\\t\\tNikita Viktorovich\\n\\t    \\n\\t16 апреля в 18:09\\n\\t   \n",
       "6          \\n\\t\\tNatasha Ya\\n\\t     \\n\\t19 марта в 22:18\\n\\t   \n",
       "7            \\n\\t\\tefimmova\\n\\t       \\n\\t6 июня в 23:23\\n\\t   \n",
       "8  \\n\\t\\tАнгелина Прокопова\\n\\t    \\n\\t25 января в 17:50\\n\\t   \n",
       "9             \\n\\t\\tРома Ч.\\n\\t  \\n\\t24 января в 20:33\\n\\t\\t   \n",
       "\n",
       "                                           text_data   neutral  negative  \\\n",
       "0  <p class=\"t-rich-text__p\">\\n\\t\\t\\t\\t\\t\\tВзял к...  0.348655  0.384922   \n",
       "1  <p class=\"t-rich-text__p\">\\n\\t\\t\\t\\t\\t\\tБыстро...  0.000000  0.073706   \n",
       "2  <p class=\"t-rich-text__p\">\\n\\t\\t\\t\\t\\t\\tЯ любл...  0.168867  0.275140   \n",
       "3  <p class=\"t-rich-text__p\">\\n\\t\\t\\t\\t\\t\\tНе пол...  0.718604  0.307368   \n",
       "4  <p class=\"t-rich-text__p\">\\n\\t\\t\\t\\t\\t\\tМой лю...  0.112805  0.000000   \n",
       "5  <p class=\"t-rich-text__p\">\\n\\t\\t\\t\\t\\t\\tНедавн...  0.196836  0.000000   \n",
       "6  <p class=\"t-rich-text__p\">\\n\\t\\t\\t\\t\\t\\tСреди ...  0.743178  0.182436   \n",
       "7  <p class=\"t-rich-text__p\">\\n\\t\\t\\t\\t\\t\\tОдин и...  0.327678  0.000000   \n",
       "8  <p class=\"t-rich-text__p\">\\n\\t\\t\\t\\t\\t\\tХоть я...  0.320831  0.000000   \n",
       "9  <p class=\"t-rich-text__p\">\\n\\t\\t\\t\\t\\t\\tНу реб...  0.222710  0.000000   \n",
       "\n",
       "   positive  \n",
       "0  0.000000  \n",
       "1  0.737168  \n",
       "2  0.000000  \n",
       "3  0.000000  \n",
       "4  0.839744  \n",
       "5  0.327678  \n",
       "6  0.000000  \n",
       "7  0.392347  \n",
       "8  0.307368  \n",
       "9  0.787941  "
      ]
     },
     "execution_count": 3,
     "metadata": {},
     "output_type": "execute_result"
    }
   ],
   "source": [
    "df.head(10)"
   ]
  },
  {
   "cell_type": "code",
   "execution_count": 4,
   "metadata": {},
   "outputs": [],
   "source": [
    "common_sentiment_marks = {'common': [df.neutral.mean(), df.negative.mean(), df.positive.mean()], 'names': ['neural','negative','positive']}"
   ]
  },
  {
   "cell_type": "code",
   "execution_count": 5,
   "metadata": {},
   "outputs": [],
   "source": [
    "df_common = pd.DataFrame(common_sentiment_marks)"
   ]
  },
  {
   "cell_type": "code",
   "execution_count": 6,
   "metadata": {},
   "outputs": [
    {
     "data": {
      "text/html": [
       "<div>\n",
       "<style scoped>\n",
       "    .dataframe tbody tr th:only-of-type {\n",
       "        vertical-align: middle;\n",
       "    }\n",
       "\n",
       "    .dataframe tbody tr th {\n",
       "        vertical-align: top;\n",
       "    }\n",
       "\n",
       "    .dataframe thead th {\n",
       "        text-align: right;\n",
       "    }\n",
       "</style>\n",
       "<table border=\"1\" class=\"dataframe\">\n",
       "  <thead>\n",
       "    <tr style=\"text-align: right;\">\n",
       "      <th></th>\n",
       "      <th>common</th>\n",
       "      <th>names</th>\n",
       "    </tr>\n",
       "  </thead>\n",
       "  <tbody>\n",
       "    <tr>\n",
       "      <th>0</th>\n",
       "      <td>0.348775</td>\n",
       "      <td>neural</td>\n",
       "    </tr>\n",
       "    <tr>\n",
       "      <th>1</th>\n",
       "      <td>0.172462</td>\n",
       "      <td>negative</td>\n",
       "    </tr>\n",
       "    <tr>\n",
       "      <th>2</th>\n",
       "      <td>0.211516</td>\n",
       "      <td>positive</td>\n",
       "    </tr>\n",
       "  </tbody>\n",
       "</table>\n",
       "</div>"
      ],
      "text/plain": [
       "     common     names\n",
       "0  0.348775    neural\n",
       "1  0.172462  negative\n",
       "2  0.211516  positive"
      ]
     },
     "execution_count": 6,
     "metadata": {},
     "output_type": "execute_result"
    }
   ],
   "source": [
    "df_common"
   ]
  },
  {
   "cell_type": "code",
   "execution_count": 7,
   "metadata": {},
   "outputs": [
    {
     "data": {
      "application/vnd.plotly.v1+json": {
       "config": {
        "plotlyServerURL": "https://plot.ly"
       },
       "data": [
        {
         "domain": {
          "x": [
           0,
           1
          ],
          "y": [
           0,
           1
          ]
         },
         "hovertemplate": "label=%{label}<br>common=%{value}<extra></extra>",
         "labels": [
          "neural",
          "negative",
          "positive"
         ],
         "legendgroup": "",
         "name": "",
         "showlegend": true,
         "type": "pie",
         "values": [
          0.34877453904715333,
          0.1724619394749022,
          0.21151621096301806
         ]
        }
       ],
       "layout": {
        "legend": {
         "tracegroupgap": 0
        },
        "margin": {
         "t": 60
        },
        "template": {
         "data": {
          "bar": [
           {
            "error_x": {
             "color": "#2a3f5f"
            },
            "error_y": {
             "color": "#2a3f5f"
            },
            "marker": {
             "line": {
              "color": "#E5ECF6",
              "width": 0.5
             },
             "pattern": {
              "fillmode": "overlay",
              "size": 10,
              "solidity": 0.2
             }
            },
            "type": "bar"
           }
          ],
          "barpolar": [
           {
            "marker": {
             "line": {
              "color": "#E5ECF6",
              "width": 0.5
             },
             "pattern": {
              "fillmode": "overlay",
              "size": 10,
              "solidity": 0.2
             }
            },
            "type": "barpolar"
           }
          ],
          "carpet": [
           {
            "aaxis": {
             "endlinecolor": "#2a3f5f",
             "gridcolor": "white",
             "linecolor": "white",
             "minorgridcolor": "white",
             "startlinecolor": "#2a3f5f"
            },
            "baxis": {
             "endlinecolor": "#2a3f5f",
             "gridcolor": "white",
             "linecolor": "white",
             "minorgridcolor": "white",
             "startlinecolor": "#2a3f5f"
            },
            "type": "carpet"
           }
          ],
          "choropleth": [
           {
            "colorbar": {
             "outlinewidth": 0,
             "ticks": ""
            },
            "type": "choropleth"
           }
          ],
          "contour": [
           {
            "colorbar": {
             "outlinewidth": 0,
             "ticks": ""
            },
            "colorscale": [
             [
              0,
              "#0d0887"
             ],
             [
              0.1111111111111111,
              "#46039f"
             ],
             [
              0.2222222222222222,
              "#7201a8"
             ],
             [
              0.3333333333333333,
              "#9c179e"
             ],
             [
              0.4444444444444444,
              "#bd3786"
             ],
             [
              0.5555555555555556,
              "#d8576b"
             ],
             [
              0.6666666666666666,
              "#ed7953"
             ],
             [
              0.7777777777777778,
              "#fb9f3a"
             ],
             [
              0.8888888888888888,
              "#fdca26"
             ],
             [
              1,
              "#f0f921"
             ]
            ],
            "type": "contour"
           }
          ],
          "contourcarpet": [
           {
            "colorbar": {
             "outlinewidth": 0,
             "ticks": ""
            },
            "type": "contourcarpet"
           }
          ],
          "heatmap": [
           {
            "colorbar": {
             "outlinewidth": 0,
             "ticks": ""
            },
            "colorscale": [
             [
              0,
              "#0d0887"
             ],
             [
              0.1111111111111111,
              "#46039f"
             ],
             [
              0.2222222222222222,
              "#7201a8"
             ],
             [
              0.3333333333333333,
              "#9c179e"
             ],
             [
              0.4444444444444444,
              "#bd3786"
             ],
             [
              0.5555555555555556,
              "#d8576b"
             ],
             [
              0.6666666666666666,
              "#ed7953"
             ],
             [
              0.7777777777777778,
              "#fb9f3a"
             ],
             [
              0.8888888888888888,
              "#fdca26"
             ],
             [
              1,
              "#f0f921"
             ]
            ],
            "type": "heatmap"
           }
          ],
          "heatmapgl": [
           {
            "colorbar": {
             "outlinewidth": 0,
             "ticks": ""
            },
            "colorscale": [
             [
              0,
              "#0d0887"
             ],
             [
              0.1111111111111111,
              "#46039f"
             ],
             [
              0.2222222222222222,
              "#7201a8"
             ],
             [
              0.3333333333333333,
              "#9c179e"
             ],
             [
              0.4444444444444444,
              "#bd3786"
             ],
             [
              0.5555555555555556,
              "#d8576b"
             ],
             [
              0.6666666666666666,
              "#ed7953"
             ],
             [
              0.7777777777777778,
              "#fb9f3a"
             ],
             [
              0.8888888888888888,
              "#fdca26"
             ],
             [
              1,
              "#f0f921"
             ]
            ],
            "type": "heatmapgl"
           }
          ],
          "histogram": [
           {
            "marker": {
             "pattern": {
              "fillmode": "overlay",
              "size": 10,
              "solidity": 0.2
             }
            },
            "type": "histogram"
           }
          ],
          "histogram2d": [
           {
            "colorbar": {
             "outlinewidth": 0,
             "ticks": ""
            },
            "colorscale": [
             [
              0,
              "#0d0887"
             ],
             [
              0.1111111111111111,
              "#46039f"
             ],
             [
              0.2222222222222222,
              "#7201a8"
             ],
             [
              0.3333333333333333,
              "#9c179e"
             ],
             [
              0.4444444444444444,
              "#bd3786"
             ],
             [
              0.5555555555555556,
              "#d8576b"
             ],
             [
              0.6666666666666666,
              "#ed7953"
             ],
             [
              0.7777777777777778,
              "#fb9f3a"
             ],
             [
              0.8888888888888888,
              "#fdca26"
             ],
             [
              1,
              "#f0f921"
             ]
            ],
            "type": "histogram2d"
           }
          ],
          "histogram2dcontour": [
           {
            "colorbar": {
             "outlinewidth": 0,
             "ticks": ""
            },
            "colorscale": [
             [
              0,
              "#0d0887"
             ],
             [
              0.1111111111111111,
              "#46039f"
             ],
             [
              0.2222222222222222,
              "#7201a8"
             ],
             [
              0.3333333333333333,
              "#9c179e"
             ],
             [
              0.4444444444444444,
              "#bd3786"
             ],
             [
              0.5555555555555556,
              "#d8576b"
             ],
             [
              0.6666666666666666,
              "#ed7953"
             ],
             [
              0.7777777777777778,
              "#fb9f3a"
             ],
             [
              0.8888888888888888,
              "#fdca26"
             ],
             [
              1,
              "#f0f921"
             ]
            ],
            "type": "histogram2dcontour"
           }
          ],
          "mesh3d": [
           {
            "colorbar": {
             "outlinewidth": 0,
             "ticks": ""
            },
            "type": "mesh3d"
           }
          ],
          "parcoords": [
           {
            "line": {
             "colorbar": {
              "outlinewidth": 0,
              "ticks": ""
             }
            },
            "type": "parcoords"
           }
          ],
          "pie": [
           {
            "automargin": true,
            "type": "pie"
           }
          ],
          "scatter": [
           {
            "fillpattern": {
             "fillmode": "overlay",
             "size": 10,
             "solidity": 0.2
            },
            "type": "scatter"
           }
          ],
          "scatter3d": [
           {
            "line": {
             "colorbar": {
              "outlinewidth": 0,
              "ticks": ""
             }
            },
            "marker": {
             "colorbar": {
              "outlinewidth": 0,
              "ticks": ""
             }
            },
            "type": "scatter3d"
           }
          ],
          "scattercarpet": [
           {
            "marker": {
             "colorbar": {
              "outlinewidth": 0,
              "ticks": ""
             }
            },
            "type": "scattercarpet"
           }
          ],
          "scattergeo": [
           {
            "marker": {
             "colorbar": {
              "outlinewidth": 0,
              "ticks": ""
             }
            },
            "type": "scattergeo"
           }
          ],
          "scattergl": [
           {
            "marker": {
             "colorbar": {
              "outlinewidth": 0,
              "ticks": ""
             }
            },
            "type": "scattergl"
           }
          ],
          "scattermapbox": [
           {
            "marker": {
             "colorbar": {
              "outlinewidth": 0,
              "ticks": ""
             }
            },
            "type": "scattermapbox"
           }
          ],
          "scatterpolar": [
           {
            "marker": {
             "colorbar": {
              "outlinewidth": 0,
              "ticks": ""
             }
            },
            "type": "scatterpolar"
           }
          ],
          "scatterpolargl": [
           {
            "marker": {
             "colorbar": {
              "outlinewidth": 0,
              "ticks": ""
             }
            },
            "type": "scatterpolargl"
           }
          ],
          "scatterternary": [
           {
            "marker": {
             "colorbar": {
              "outlinewidth": 0,
              "ticks": ""
             }
            },
            "type": "scatterternary"
           }
          ],
          "surface": [
           {
            "colorbar": {
             "outlinewidth": 0,
             "ticks": ""
            },
            "colorscale": [
             [
              0,
              "#0d0887"
             ],
             [
              0.1111111111111111,
              "#46039f"
             ],
             [
              0.2222222222222222,
              "#7201a8"
             ],
             [
              0.3333333333333333,
              "#9c179e"
             ],
             [
              0.4444444444444444,
              "#bd3786"
             ],
             [
              0.5555555555555556,
              "#d8576b"
             ],
             [
              0.6666666666666666,
              "#ed7953"
             ],
             [
              0.7777777777777778,
              "#fb9f3a"
             ],
             [
              0.8888888888888888,
              "#fdca26"
             ],
             [
              1,
              "#f0f921"
             ]
            ],
            "type": "surface"
           }
          ],
          "table": [
           {
            "cells": {
             "fill": {
              "color": "#EBF0F8"
             },
             "line": {
              "color": "white"
             }
            },
            "header": {
             "fill": {
              "color": "#C8D4E3"
             },
             "line": {
              "color": "white"
             }
            },
            "type": "table"
           }
          ]
         },
         "layout": {
          "annotationdefaults": {
           "arrowcolor": "#2a3f5f",
           "arrowhead": 0,
           "arrowwidth": 1
          },
          "autotypenumbers": "strict",
          "coloraxis": {
           "colorbar": {
            "outlinewidth": 0,
            "ticks": ""
           }
          },
          "colorscale": {
           "diverging": [
            [
             0,
             "#8e0152"
            ],
            [
             0.1,
             "#c51b7d"
            ],
            [
             0.2,
             "#de77ae"
            ],
            [
             0.3,
             "#f1b6da"
            ],
            [
             0.4,
             "#fde0ef"
            ],
            [
             0.5,
             "#f7f7f7"
            ],
            [
             0.6,
             "#e6f5d0"
            ],
            [
             0.7,
             "#b8e186"
            ],
            [
             0.8,
             "#7fbc41"
            ],
            [
             0.9,
             "#4d9221"
            ],
            [
             1,
             "#276419"
            ]
           ],
           "sequential": [
            [
             0,
             "#0d0887"
            ],
            [
             0.1111111111111111,
             "#46039f"
            ],
            [
             0.2222222222222222,
             "#7201a8"
            ],
            [
             0.3333333333333333,
             "#9c179e"
            ],
            [
             0.4444444444444444,
             "#bd3786"
            ],
            [
             0.5555555555555556,
             "#d8576b"
            ],
            [
             0.6666666666666666,
             "#ed7953"
            ],
            [
             0.7777777777777778,
             "#fb9f3a"
            ],
            [
             0.8888888888888888,
             "#fdca26"
            ],
            [
             1,
             "#f0f921"
            ]
           ],
           "sequentialminus": [
            [
             0,
             "#0d0887"
            ],
            [
             0.1111111111111111,
             "#46039f"
            ],
            [
             0.2222222222222222,
             "#7201a8"
            ],
            [
             0.3333333333333333,
             "#9c179e"
            ],
            [
             0.4444444444444444,
             "#bd3786"
            ],
            [
             0.5555555555555556,
             "#d8576b"
            ],
            [
             0.6666666666666666,
             "#ed7953"
            ],
            [
             0.7777777777777778,
             "#fb9f3a"
            ],
            [
             0.8888888888888888,
             "#fdca26"
            ],
            [
             1,
             "#f0f921"
            ]
           ]
          },
          "colorway": [
           "#636efa",
           "#EF553B",
           "#00cc96",
           "#ab63fa",
           "#FFA15A",
           "#19d3f3",
           "#FF6692",
           "#B6E880",
           "#FF97FF",
           "#FECB52"
          ],
          "font": {
           "color": "#2a3f5f"
          },
          "geo": {
           "bgcolor": "white",
           "lakecolor": "white",
           "landcolor": "#E5ECF6",
           "showlakes": true,
           "showland": true,
           "subunitcolor": "white"
          },
          "hoverlabel": {
           "align": "left"
          },
          "hovermode": "closest",
          "mapbox": {
           "style": "light"
          },
          "paper_bgcolor": "white",
          "plot_bgcolor": "#E5ECF6",
          "polar": {
           "angularaxis": {
            "gridcolor": "white",
            "linecolor": "white",
            "ticks": ""
           },
           "bgcolor": "#E5ECF6",
           "radialaxis": {
            "gridcolor": "white",
            "linecolor": "white",
            "ticks": ""
           }
          },
          "scene": {
           "xaxis": {
            "backgroundcolor": "#E5ECF6",
            "gridcolor": "white",
            "gridwidth": 2,
            "linecolor": "white",
            "showbackground": true,
            "ticks": "",
            "zerolinecolor": "white"
           },
           "yaxis": {
            "backgroundcolor": "#E5ECF6",
            "gridcolor": "white",
            "gridwidth": 2,
            "linecolor": "white",
            "showbackground": true,
            "ticks": "",
            "zerolinecolor": "white"
           },
           "zaxis": {
            "backgroundcolor": "#E5ECF6",
            "gridcolor": "white",
            "gridwidth": 2,
            "linecolor": "white",
            "showbackground": true,
            "ticks": "",
            "zerolinecolor": "white"
           }
          },
          "shapedefaults": {
           "line": {
            "color": "#2a3f5f"
           }
          },
          "ternary": {
           "aaxis": {
            "gridcolor": "white",
            "linecolor": "white",
            "ticks": ""
           },
           "baxis": {
            "gridcolor": "white",
            "linecolor": "white",
            "ticks": ""
           },
           "bgcolor": "#E5ECF6",
           "caxis": {
            "gridcolor": "white",
            "linecolor": "white",
            "ticks": ""
           }
          },
          "title": {
           "x": 0.05
          },
          "xaxis": {
           "automargin": true,
           "gridcolor": "white",
           "linecolor": "white",
           "ticks": "",
           "title": {
            "standoff": 15
           },
           "zerolinecolor": "white",
           "zerolinewidth": 2
          },
          "yaxis": {
           "automargin": true,
           "gridcolor": "white",
           "linecolor": "white",
           "ticks": "",
           "title": {
            "standoff": 15
           },
           "zerolinecolor": "white",
           "zerolinewidth": 2
          }
         }
        }
       }
      }
     },
     "metadata": {},
     "output_type": "display_data"
    }
   ],
   "source": [
    "fig = px.pie(df_common,values='common',names='names')\n",
    "fig.show()"
   ]
  }
 ],
 "metadata": {
  "kernelspec": {
   "display_name": "Python 3",
   "language": "python",
   "name": "python3"
  },
  "language_info": {
   "codemirror_mode": {
    "name": "ipython",
    "version": 3
   },
   "file_extension": ".py",
   "mimetype": "text/x-python",
   "name": "python",
   "nbconvert_exporter": "python",
   "pygments_lexer": "ipython3",
   "version": "3.9.16 (main, Dec  7 2022, 01:11:51) \n[GCC 9.4.0]"
  },
  "orig_nbformat": 4,
  "vscode": {
   "interpreter": {
    "hash": "f9f85f796d01129d0dd105a088854619f454435301f6ffec2fea96ecbd9be4ac"
   }
  }
 },
 "nbformat": 4,
 "nbformat_minor": 2
}
